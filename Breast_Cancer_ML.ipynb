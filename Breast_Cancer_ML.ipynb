{
  "nbformat": 4,
  "nbformat_minor": 0,
  "metadata": {
    "colab": {
      "name": "Breast_Cancer_ML",
      "provenance": [],
      "collapsed_sections": [],
      "authorship_tag": "ABX9TyP/pEV5yqAGB+YJBgP5xbDQ",
      "include_colab_link": true
    },
    "kernelspec": {
      "name": "python3",
      "display_name": "Python 3"
    },
    "language_info": {
      "name": "python"
    }
  },
  "cells": [
    {
      "cell_type": "markdown",
      "metadata": {
        "id": "view-in-github",
        "colab_type": "text"
      },
      "source": [
        "<a href=\"https://colab.research.google.com/github/emrecicekyurt/MachineLearningProjects/blob/main/Breast_Cancer_ML.ipynb\" target=\"_parent\"><img src=\"https://colab.research.google.com/assets/colab-badge.svg\" alt=\"Open In Colab\"/></a>"
      ]
    },
    {
      "cell_type": "code",
      "metadata": {
        "colab": {
          "base_uri": "https://localhost:8080/"
        },
        "id": "NMVx7AIBnRxR",
        "outputId": "a5be2af4-587a-47e3-cf65-59ae93290c46"
      },
      "source": [
        "from sklearn.datasets import load_breast_cancer\n",
        "\n",
        "data = load_breast_cancer()\n",
        "\n",
        "X = data['data']\n",
        "y = data['target']\n",
        "\n",
        "feature_names = data['feature_names']\n",
        "\n",
        "print(feature_names)"
      ],
      "execution_count": null,
      "outputs": [
        {
          "output_type": "stream",
          "text": [
            "['mean radius' 'mean texture' 'mean perimeter' 'mean area'\n",
            " 'mean smoothness' 'mean compactness' 'mean concavity'\n",
            " 'mean concave points' 'mean symmetry' 'mean fractal dimension'\n",
            " 'radius error' 'texture error' 'perimeter error' 'area error'\n",
            " 'smoothness error' 'compactness error' 'concavity error'\n",
            " 'concave points error' 'symmetry error' 'fractal dimension error'\n",
            " 'worst radius' 'worst texture' 'worst perimeter' 'worst area'\n",
            " 'worst smoothness' 'worst compactness' 'worst concavity'\n",
            " 'worst concave points' 'worst symmetry' 'worst fractal dimension']\n"
          ],
          "name": "stdout"
        }
      ]
    },
    {
      "cell_type": "code",
      "metadata": {
        "id": "JcMyeoSpoLdj"
      },
      "source": [
        "import pandas as pd\n",
        "X_df = pd.DataFrame(X, columns = [feature_names])\n",
        "y_df = pd.DataFrame(y, columns = [\"class\"])\n",
        "breast_df = pd.concat([X_df, y_df], axis = 1)"
      ],
      "execution_count": null,
      "outputs": []
    },
    {
      "cell_type": "code",
      "metadata": {
        "colab": {
          "base_uri": "https://localhost:8080/"
        },
        "id": "W5nQZ_OsqId0",
        "outputId": "2d7c3c2d-ab4f-4e98-d4cf-bb136d9bf8a5"
      },
      "source": [
        "from sklearn.model_selection import train_test_split\n",
        "\n",
        "train_set, test_set = train_test_split(breast_df, test_size=0.2, random_state=42)\n",
        "\n",
        "def sep(set):\n",
        "    set_input = set.drop(\"class\", axis=1)\n",
        "    set_output = set[\"class\"].copy()\n",
        "    return set_input, set_output\n",
        "        \n",
        "train_set, train_set_label = sep(train_set)\n",
        "test_set, test_set_label = sep(test_set)\n",
        "\n",
        "print(train_set.shape)"
      ],
      "execution_count": null,
      "outputs": [
        {
          "output_type": "stream",
          "text": [
            "(455, 30)\n"
          ],
          "name": "stdout"
        }
      ]
    },
    {
      "cell_type": "code",
      "metadata": {
        "id": "Ece1cX6RqYlS"
      },
      "source": [
        "from sklearn.preprocessing import StandardScaler\n",
        "\n",
        "scaler = StandardScaler()\n",
        "normalized_train = scaler.fit_transform(train_set)\n",
        "normalized_test = scaler.transform(test_set)"
      ],
      "execution_count": null,
      "outputs": []
    },
    {
      "cell_type": "code",
      "metadata": {
        "colab": {
          "base_uri": "https://localhost:8080/"
        },
        "id": "HnfzKM_1qilC",
        "outputId": "16ec799c-b055-47b2-a5e4-f31875f61686"
      },
      "source": [
        "from sklearn.ensemble import RandomForestClassifier\n",
        "from sklearn.model_selection import cross_val_score\n",
        "\n",
        "reg = RandomForestClassifier(random_state=42)\n",
        "\n",
        "scores = cross_val_score(reg, normalized_train, train_set_label, scoring=\"accuracy\", cv=10)\n",
        "\n",
        "print(reg)\n",
        "print(scores.mean())"
      ],
      "execution_count": null,
      "outputs": [
        {
          "output_type": "stream",
          "text": [
            "RandomForestClassifier(bootstrap=True, ccp_alpha=0.0, class_weight=None,\n",
            "                       criterion='gini', max_depth=None, max_features='auto',\n",
            "                       max_leaf_nodes=None, max_samples=None,\n",
            "                       min_impurity_decrease=0.0, min_impurity_split=None,\n",
            "                       min_samples_leaf=1, min_samples_split=2,\n",
            "                       min_weight_fraction_leaf=0.0, n_estimators=100,\n",
            "                       n_jobs=None, oob_score=False, random_state=42, verbose=0,\n",
            "                       warm_start=False)\n",
            "0.9626086956521739\n"
          ],
          "name": "stdout"
        }
      ]
    },
    {
      "cell_type": "code",
      "metadata": {
        "colab": {
          "base_uri": "https://localhost:8080/"
        },
        "id": "R8TdMPPRrOa3",
        "outputId": "6ca4e9a2-0d5a-4dcc-9a08-a1993ff699ae"
      },
      "source": [
        "from sklearn.model_selection import GridSearchCV\n",
        "from sklearn.ensemble import RandomForestRegressor\n",
        "from sklearn.metrics import accuracy_score\n",
        "param_grid = [\n",
        "    {'n_estimators': [3, 10, 30], 'max_features': [2, 4, 6, 8]},\n",
        "    {'bootstrap': [False], 'n_estimators': [3, 10], 'max_features': [2, 3, 4]},\n",
        "  ]\n",
        "\n",
        "\n",
        "\n",
        "grid_search = GridSearchCV(reg, param_grid, cv=5,\n",
        "                           scoring='neg_mean_squared_error',\n",
        "                           return_train_score=True)\n",
        "\n",
        "grid_search.fit(normalized_train, train_set_label)\n",
        "grid_search.best_params_\n",
        "pred_CV = grid_search.predict(normalized_test)\n",
        "accuracy_score(test_set_label, pred_CV)"
      ],
      "execution_count": null,
      "outputs": [
        {
          "output_type": "execute_result",
          "data": {
            "text/plain": [
              "0.9736842105263158"
            ]
          },
          "metadata": {
            "tags": []
          },
          "execution_count": 42
        }
      ]
    },
    {
      "cell_type": "code",
      "metadata": {
        "colab": {
          "base_uri": "https://localhost:8080/"
        },
        "id": "3oDhNPRoxtmt",
        "outputId": "2b1225db-3a15-4ad5-a690-ef4e2dc0c8d7"
      },
      "source": [
        "def show_predicts():\n",
        "  k = 0\n",
        "  for i in test_set_label:\n",
        "    print(f\"{i} predicted as {pred_CV[k]}\")\n",
        "    k=k+1\n",
        "\n",
        "show_predicts()"
      ],
      "execution_count": null,
      "outputs": [
        {
          "output_type": "stream",
          "text": [
            "1 predicted as 1\n",
            "0 predicted as 0\n",
            "0 predicted as 0\n",
            "1 predicted as 1\n",
            "1 predicted as 1\n",
            "0 predicted as 0\n",
            "0 predicted as 0\n",
            "0 predicted as 0\n",
            "1 predicted as 0\n",
            "1 predicted as 1\n",
            "1 predicted as 1\n",
            "0 predicted as 0\n",
            "1 predicted as 1\n",
            "0 predicted as 0\n",
            "1 predicted as 1\n",
            "0 predicted as 0\n",
            "1 predicted as 1\n",
            "1 predicted as 1\n",
            "1 predicted as 1\n",
            "0 predicted as 0\n",
            "0 predicted as 1\n",
            "1 predicted as 1\n",
            "0 predicted as 0\n",
            "1 predicted as 1\n",
            "1 predicted as 1\n",
            "1 predicted as 1\n",
            "1 predicted as 1\n",
            "1 predicted as 1\n",
            "1 predicted as 1\n",
            "0 predicted as 0\n",
            "1 predicted as 1\n",
            "1 predicted as 1\n",
            "1 predicted as 1\n",
            "1 predicted as 1\n",
            "1 predicted as 1\n",
            "1 predicted as 1\n",
            "0 predicted as 0\n",
            "1 predicted as 1\n",
            "0 predicted as 0\n",
            "1 predicted as 1\n",
            "1 predicted as 1\n",
            "0 predicted as 0\n",
            "1 predicted as 1\n",
            "1 predicted as 1\n",
            "1 predicted as 1\n",
            "1 predicted as 1\n",
            "1 predicted as 1\n",
            "1 predicted as 1\n",
            "1 predicted as 1\n",
            "1 predicted as 1\n",
            "0 predicted as 0\n",
            "0 predicted as 0\n",
            "1 predicted as 1\n",
            "1 predicted as 1\n",
            "1 predicted as 1\n",
            "1 predicted as 1\n",
            "1 predicted as 1\n",
            "0 predicted as 0\n",
            "0 predicted as 0\n",
            "1 predicted as 1\n",
            "1 predicted as 1\n",
            "0 predicted as 0\n",
            "0 predicted as 0\n",
            "1 predicted as 1\n",
            "1 predicted as 1\n",
            "1 predicted as 1\n",
            "0 predicted as 0\n",
            "0 predicted as 0\n",
            "1 predicted as 1\n",
            "1 predicted as 1\n",
            "0 predicted as 0\n",
            "0 predicted as 0\n",
            "1 predicted as 1\n",
            "0 predicted as 0\n",
            "1 predicted as 1\n",
            "1 predicted as 1\n",
            "1 predicted as 1\n",
            "0 predicted as 1\n",
            "1 predicted as 1\n",
            "1 predicted as 1\n",
            "0 predicted as 0\n",
            "1 predicted as 1\n",
            "0 predicted as 0\n",
            "0 predicted as 0\n",
            "0 predicted as 0\n",
            "0 predicted as 0\n",
            "0 predicted as 0\n",
            "0 predicted as 0\n",
            "1 predicted as 1\n",
            "1 predicted as 1\n",
            "1 predicted as 1\n",
            "1 predicted as 1\n",
            "1 predicted as 1\n",
            "1 predicted as 1\n",
            "1 predicted as 1\n",
            "1 predicted as 1\n",
            "0 predicted as 0\n",
            "0 predicted as 0\n",
            "1 predicted as 1\n",
            "0 predicted as 0\n",
            "0 predicted as 0\n",
            "1 predicted as 1\n",
            "0 predicted as 0\n",
            "0 predicted as 0\n",
            "1 predicted as 1\n",
            "1 predicted as 1\n",
            "1 predicted as 1\n",
            "0 predicted as 0\n",
            "1 predicted as 1\n",
            "1 predicted as 1\n",
            "0 predicted as 0\n",
            "1 predicted as 1\n",
            "1 predicted as 1\n",
            "0 predicted as 0\n"
          ],
          "name": "stdout"
        }
      ]
    }
  ]
}